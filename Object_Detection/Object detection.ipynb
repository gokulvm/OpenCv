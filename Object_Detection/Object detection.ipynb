{
 "cells": [
  {
   "cell_type": "code",
   "execution_count": 1,
   "metadata": {},
   "outputs": [],
   "source": [
    "import cv2\n",
    "\n",
    "COCO_labels = []\n",
    "classFile = r\"E:\\opencv\\Untitled Folder\\mobile_ssd\\coco.names\"\n",
    "with open(classFile,'rt') as cls:\n",
    "    COCO_labels = cls.read().rstrip('\\n').split('\\n')\n",
    "\n",
    "net = r'E:\\opencv\\Untitled Folder\\mobile_ssd\\ssd_mobilenet_v3_large_coco_2020_01_14.pbtxt'\n",
    "weights = r\"E:\\opencv\\Untitled Folder\\mobile_ssd\\frozen_inference_graph.pb\"\n",
    "model = cv2.dnn_DetectionModel(net,weights)"
   ]
  },
  {
   "cell_type": "code",
   "execution_count": 2,
   "metadata": {},
   "outputs": [
    {
     "data": {
      "text/plain": [
       "<dnn_Model 000001E4CA70DAE0>"
      ]
     },
     "execution_count": 2,
     "metadata": {},
     "output_type": "execute_result"
    }
   ],
   "source": [
    "model.setInputSize(320,320)\n",
    "model.setInputScale(1.0/127.5)\n",
    "model.setInputMean((127.5,127.5,127.5))\n",
    "model.setInputSwapRB(True)"
   ]
  },
  {
   "cell_type": "code",
   "execution_count": 3,
   "metadata": {},
   "outputs": [],
   "source": [
    "#For image Detection\n",
    "#img = cv2.imread(\"F:\\Pictures\\IMG_20200921_224857.jpg\")\n",
    "#img = cv2.resize(img,None,fx=0.3,fy=0.3)\n",
    "#cv2.imshow(\"Alan\",img)"
   ]
  },
  {
   "cell_type": "code",
   "execution_count": 6,
   "metadata": {
    "collapsed": true
   },
   "outputs": [
    {
     "name": "stdout",
     "output_type": "stream",
     "text": [
      "[[1]] [[253 134 858 580]]\n",
      "[[1]] [[255 134 875 581]]\n",
      "[[1]] [[247 135 843 581]]\n",
      "[[1]] [[247 135 843 581]]\n",
      "[[1]] [[254 136 848 572]]\n",
      "[[1]] [[246 143 827 574]]\n",
      "[[1]] [[253 141 832 572]]\n",
      "[[1]] [[247 143 840 573]]\n",
      "[[1]] [[227 147 906 569]]\n",
      "[[1]] [[227 147 906 569]]\n",
      "[[1]] [[230 138 954 578]]\n",
      "[[1]] [[224 139 956 578]]\n",
      "[[1]] [[227 145 953 572]]\n",
      "[[1]] [[227 145 953 572]]\n",
      "[[1]] [[239 142 908 570]]\n",
      "[[1]] [[229 138 940 578]]\n",
      "[[1]] [[240 140 923 575]]\n",
      "[[1]] [[240 140 923 575]]\n",
      "[[1]] [[233 128 943 582]]\n",
      "[[1]\n",
      " [1]] [[ 255  270  870  424]\n",
      " [ 117  125 1071  578]]\n",
      "[[1]\n",
      " [1]] [[299 285 749 399]\n",
      " [474 291 444 369]]\n",
      "[[ 1]\n",
      " [ 1]\n",
      " [62]] [[303 284 691 398]\n",
      " [479 276 434 392]\n",
      " [262 290 301 377]]\n",
      "[[1]\n",
      " [1]] [[440 272 503 404]\n",
      " [291 262 834 435]]\n",
      "[[1]\n",
      " [1]] [[440 272 503 404]\n",
      " [291 262 834 435]]\n",
      "[[1]\n",
      " [1]] [[448 279 469 393]\n",
      " [306 268 775 429]]\n",
      "[[1]\n",
      " [1]] [[443 284 486 390]\n",
      " [303 273 784 424]]\n",
      "[[1]\n",
      " [1]] [[350 296 626 381]\n",
      " [249 287 954 426]]\n",
      "[[1]\n",
      " [1]\n",
      " [1]] [[359 293 628 388]\n",
      " [240 288 959 425]\n",
      " [516 292 394 369]]\n",
      "[[1]\n",
      " [1]] [[341 295 643 388]\n",
      " [513 297 396 365]]\n",
      "[[1]\n",
      " [1]] [[323 294 654 393]\n",
      " [512 292 399 373]]\n",
      "[[1]\n",
      " [1]] [[323 294 654 393]\n",
      " [512 292 399 373]]\n",
      "[[1]] [[369 297 599 389]]\n",
      "[[1]] [[307 292 682 395]]\n"
     ]
    }
   ],
   "source": [
    "video = cv2.VideoCapture(0)\n",
    "video.set(3,1280)\n",
    "video.set(4,720)\n",
    "video.set(10,70)\n",
    "\n",
    "while True:\n",
    "    _,img = video.read()\n",
    "    classIds , confs , bbox = model.detect(img,confThreshold=0.5 )\n",
    "    print(classIds,bbox)\n",
    "    if len(classIds) != 0:\n",
    "        for classid,confidence,bbox in zip(classIds.flatten(),confs.flatten(),bbox):\n",
    "            cv2.rectangle(img,bbox,(0,255,0),2)\n",
    "            cv2.putText(img,COCO_labels[classid-1].upper(),(bbox[0]+10,bbox[1]+30),cv2.FONT_HERSHEY_COMPLEX,1,(0,255,0),2)\n",
    "            cv2.putText(img,str(round(confidence*100,2)),(bbox[0]+300,bbox[1]+30),cv2.FONT_HERSHEY_COMPLEX,1,(0,255,0),2)\n",
    "    cv2.imshow(\"Detecing....\",img)\n",
    "       \n",
    "    if cv2.waitKey(1) & 0xFF == ord('e'):\n",
    "            break\n",
    "            \n",
    "video.release()\n",
    "cv2.destroyAllWindows()\n"
   ]
  },
  {
   "cell_type": "code",
   "execution_count": null,
   "metadata": {},
   "outputs": [],
   "source": []
  },
  {
   "cell_type": "code",
   "execution_count": null,
   "metadata": {},
   "outputs": [],
   "source": []
  }
 ],
 "metadata": {
  "kernelspec": {
   "display_name": "Python 3",
   "language": "python",
   "name": "python3"
  },
  "language_info": {
   "codemirror_mode": {
    "name": "ipython",
    "version": 3
   },
   "file_extension": ".py",
   "mimetype": "text/x-python",
   "name": "python",
   "nbconvert_exporter": "python",
   "pygments_lexer": "ipython3",
   "version": "3.8.3"
  }
 },
 "nbformat": 4,
 "nbformat_minor": 4
}
