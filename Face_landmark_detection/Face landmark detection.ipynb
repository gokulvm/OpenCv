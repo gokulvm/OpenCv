{
 "cells": [
  {
   "cell_type": "code",
   "execution_count": 1,
   "metadata": {},
   "outputs": [],
   "source": [
    "import cv2\n",
    "import dlib\n",
    "import numpy as np"
   ]
  },
  {
   "cell_type": "code",
   "execution_count": 6,
   "metadata": {},
   "outputs": [],
   "source": [
    "detector = dlib.get_frontal_face_detector()\n",
    "predictor = dlib.shape_predictor(\"E:\\opencv\\Face landmark detection\\shape_predictor_68_face_landmarks.dat\")\n",
    "video =  cv2.VideoCapture(0)\n",
    "video.set(3,1280)\n",
    "video.set(4,720)\n",
    "video.set(10,70)\n",
    "\n",
    "while True:\n",
    "    _,frame = video.read()\n",
    "    gray_scale = cv2.cvtColor(frame,cv2.COLOR_BGR2GRAY)\n",
    "    faces = detector(gray_scale)\n",
    "    for face in faces:\n",
    "        lm = predictor(gray_scale,face) # land mark\n",
    "        for i in range(0,68):\n",
    "            x = lm.part(i).x\n",
    "            y = lm.part(i).y\n",
    "            cv2.circle(frame,(x,y),6,(200,100,0),-1)\n",
    "    cv2.imshow(\"face\",frame)\n",
    "   \n",
    "    if cv2.waitKey(1) & 0xFF == ord('e'):\n",
    "            break\n",
    "            \n",
    "video.release()\n",
    "cv2.destroyAllWindows()"
   ]
  },
  {
   "cell_type": "code",
   "execution_count": null,
   "metadata": {},
   "outputs": [],
   "source": []
  }
 ],
 "metadata": {
  "kernelspec": {
   "display_name": "Python 3",
   "language": "python",
   "name": "python3"
  },
  "language_info": {
   "codemirror_mode": {
    "name": "ipython",
    "version": 3
   },
   "file_extension": ".py",
   "mimetype": "text/x-python",
   "name": "python",
   "nbconvert_exporter": "python",
   "pygments_lexer": "ipython3",
   "version": "3.8.3"
  }
 },
 "nbformat": 4,
 "nbformat_minor": 4
}
